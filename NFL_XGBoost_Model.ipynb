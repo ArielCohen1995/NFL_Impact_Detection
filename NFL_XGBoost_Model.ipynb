{
 "cells": [
  {
   "cell_type": "code",
   "execution_count": 1,
   "id": "c2da207d",
   "metadata": {},
   "outputs": [],
   "source": [
    "import pandas as pd"
   ]
  },
  {
   "cell_type": "code",
   "execution_count": 2,
   "id": "f4a4d51b",
   "metadata": {},
   "outputs": [],
   "source": [
    "df_meta = pd.read_csv('nfl-player-contact-detection/train_video_metadata.csv')\n",
    "df_helmets = pd.read_csv('nfl-player-contact-detection/train_baseline_helmets.csv')\n",
    "df_players = pd.read_csv('nfl-player-contact-detection/train_player_tracking.csv')\n",
    "df_labels = pd.read_csv('nfl-player-contact-detection/train_labels.csv')"
   ]
  },
  {
   "cell_type": "code",
   "execution_count": 3,
   "id": "cb86afa1",
   "metadata": {},
   "outputs": [
    {
     "data": {
      "text/html": [
       "<div>\n",
       "<style scoped>\n",
       "    .dataframe tbody tr th:only-of-type {\n",
       "        vertical-align: middle;\n",
       "    }\n",
       "\n",
       "    .dataframe tbody tr th {\n",
       "        vertical-align: top;\n",
       "    }\n",
       "\n",
       "    .dataframe thead th {\n",
       "        text-align: right;\n",
       "    }\n",
       "</style>\n",
       "<table border=\"1\" class=\"dataframe\">\n",
       "  <thead>\n",
       "    <tr style=\"text-align: right;\">\n",
       "      <th></th>\n",
       "      <th>Unnamed: 0</th>\n",
       "      <th>game_play</th>\n",
       "      <th>datetime</th>\n",
       "      <th>nfl_player_id_1</th>\n",
       "      <th>nfl_player_id_2</th>\n",
       "      <th>contact</th>\n",
       "      <th>start_time</th>\n",
       "      <th>frame_number</th>\n",
       "      <th>left_sideline_p1</th>\n",
       "      <th>top_sideline_p1</th>\n",
       "      <th>...</th>\n",
       "      <th>sa_p1</th>\n",
       "      <th>jersey_num_p2</th>\n",
       "      <th>x_p2</th>\n",
       "      <th>y_p2</th>\n",
       "      <th>speed_p2</th>\n",
       "      <th>distance_p2</th>\n",
       "      <th>direction_p2</th>\n",
       "      <th>orientation_p2</th>\n",
       "      <th>acceleration_p2</th>\n",
       "      <th>sa_p2</th>\n",
       "    </tr>\n",
       "  </thead>\n",
       "  <tbody>\n",
       "    <tr>\n",
       "      <th>0</th>\n",
       "      <td>0</td>\n",
       "      <td>58168_003392</td>\n",
       "      <td>2020-09-11 03:01:48.100</td>\n",
       "      <td>38590</td>\n",
       "      <td>43854</td>\n",
       "      <td>0</td>\n",
       "      <td>2020-09-11 03:01:43.134</td>\n",
       "      <td>298</td>\n",
       "      <td>468.0</td>\n",
       "      <td>372.0</td>\n",
       "      <td>...</td>\n",
       "      <td>0.58</td>\n",
       "      <td>57.0</td>\n",
       "      <td>41.99</td>\n",
       "      <td>16.79</td>\n",
       "      <td>0.74</td>\n",
       "      <td>0.06</td>\n",
       "      <td>263.92</td>\n",
       "      <td>294.74</td>\n",
       "      <td>1.74</td>\n",
       "      <td>1.74</td>\n",
       "    </tr>\n",
       "    <tr>\n",
       "      <th>1</th>\n",
       "      <td>1</td>\n",
       "      <td>58168_003392</td>\n",
       "      <td>2020-09-11 03:01:48.100</td>\n",
       "      <td>38590</td>\n",
       "      <td>41257</td>\n",
       "      <td>0</td>\n",
       "      <td>2020-09-11 03:01:43.134</td>\n",
       "      <td>298</td>\n",
       "      <td>468.0</td>\n",
       "      <td>372.0</td>\n",
       "      <td>...</td>\n",
       "      <td>0.58</td>\n",
       "      <td>21.0</td>\n",
       "      <td>45.77</td>\n",
       "      <td>15.59</td>\n",
       "      <td>0.67</td>\n",
       "      <td>0.07</td>\n",
       "      <td>180.38</td>\n",
       "      <td>270.88</td>\n",
       "      <td>0.34</td>\n",
       "      <td>0.08</td>\n",
       "    </tr>\n",
       "    <tr>\n",
       "      <th>2</th>\n",
       "      <td>2</td>\n",
       "      <td>58168_003392</td>\n",
       "      <td>2020-09-11 03:01:48.100</td>\n",
       "      <td>38590</td>\n",
       "      <td>41944</td>\n",
       "      <td>0</td>\n",
       "      <td>2020-09-11 03:01:43.134</td>\n",
       "      <td>298</td>\n",
       "      <td>468.0</td>\n",
       "      <td>372.0</td>\n",
       "      <td>...</td>\n",
       "      <td>0.58</td>\n",
       "      <td>92.0</td>\n",
       "      <td>42.00</td>\n",
       "      <td>22.85</td>\n",
       "      <td>0.68</td>\n",
       "      <td>0.08</td>\n",
       "      <td>234.17</td>\n",
       "      <td>282.07</td>\n",
       "      <td>0.81</td>\n",
       "      <td>0.81</td>\n",
       "    </tr>\n",
       "    <tr>\n",
       "      <th>3</th>\n",
       "      <td>3</td>\n",
       "      <td>58168_003392</td>\n",
       "      <td>2020-09-11 03:01:48.100</td>\n",
       "      <td>38590</td>\n",
       "      <td>42386</td>\n",
       "      <td>0</td>\n",
       "      <td>2020-09-11 03:01:43.134</td>\n",
       "      <td>298</td>\n",
       "      <td>468.0</td>\n",
       "      <td>372.0</td>\n",
       "      <td>...</td>\n",
       "      <td>0.58</td>\n",
       "      <td>55.0</td>\n",
       "      <td>45.87</td>\n",
       "      <td>23.89</td>\n",
       "      <td>0.61</td>\n",
       "      <td>0.06</td>\n",
       "      <td>221.19</td>\n",
       "      <td>269.45</td>\n",
       "      <td>1.11</td>\n",
       "      <td>1.10</td>\n",
       "    </tr>\n",
       "    <tr>\n",
       "      <th>4</th>\n",
       "      <td>4</td>\n",
       "      <td>58168_003392</td>\n",
       "      <td>2020-09-11 03:01:48.100</td>\n",
       "      <td>38590</td>\n",
       "      <td>47944</td>\n",
       "      <td>0</td>\n",
       "      <td>2020-09-11 03:01:43.134</td>\n",
       "      <td>298</td>\n",
       "      <td>468.0</td>\n",
       "      <td>372.0</td>\n",
       "      <td>...</td>\n",
       "      <td>0.58</td>\n",
       "      <td>94.0</td>\n",
       "      <td>42.10</td>\n",
       "      <td>26.58</td>\n",
       "      <td>0.20</td>\n",
       "      <td>0.03</td>\n",
       "      <td>240.11</td>\n",
       "      <td>266.04</td>\n",
       "      <td>1.63</td>\n",
       "      <td>1.23</td>\n",
       "    </tr>\n",
       "  </tbody>\n",
       "</table>\n",
       "<p>5 rows × 34 columns</p>\n",
       "</div>"
      ],
      "text/plain": [
       "   Unnamed: 0     game_play                 datetime  nfl_player_id_1  \\\n",
       "0           0  58168_003392  2020-09-11 03:01:48.100            38590   \n",
       "1           1  58168_003392  2020-09-11 03:01:48.100            38590   \n",
       "2           2  58168_003392  2020-09-11 03:01:48.100            38590   \n",
       "3           3  58168_003392  2020-09-11 03:01:48.100            38590   \n",
       "4           4  58168_003392  2020-09-11 03:01:48.100            38590   \n",
       "\n",
       "   nfl_player_id_2  contact               start_time  frame_number  \\\n",
       "0            43854        0  2020-09-11 03:01:43.134           298   \n",
       "1            41257        0  2020-09-11 03:01:43.134           298   \n",
       "2            41944        0  2020-09-11 03:01:43.134           298   \n",
       "3            42386        0  2020-09-11 03:01:43.134           298   \n",
       "4            47944        0  2020-09-11 03:01:43.134           298   \n",
       "\n",
       "   left_sideline_p1  top_sideline_p1  ...  sa_p1  jersey_num_p2   x_p2   y_p2  \\\n",
       "0             468.0            372.0  ...   0.58           57.0  41.99  16.79   \n",
       "1             468.0            372.0  ...   0.58           21.0  45.77  15.59   \n",
       "2             468.0            372.0  ...   0.58           92.0  42.00  22.85   \n",
       "3             468.0            372.0  ...   0.58           55.0  45.87  23.89   \n",
       "4             468.0            372.0  ...   0.58           94.0  42.10  26.58   \n",
       "\n",
       "   speed_p2  distance_p2  direction_p2  orientation_p2  acceleration_p2  sa_p2  \n",
       "0      0.74         0.06        263.92          294.74             1.74   1.74  \n",
       "1      0.67         0.07        180.38          270.88             0.34   0.08  \n",
       "2      0.68         0.08        234.17          282.07             0.81   0.81  \n",
       "3      0.61         0.06        221.19          269.45             1.11   1.10  \n",
       "4      0.20         0.03        240.11          266.04             1.63   1.23  \n",
       "\n",
       "[5 rows x 34 columns]"
      ]
     },
     "execution_count": 3,
     "metadata": {},
     "output_type": "execute_result"
    }
   ],
   "source": [
    "df = pd.read_csv('nfl_train.csv')\n",
    "df.head(5)"
   ]
  },
  {
   "cell_type": "code",
   "execution_count": 4,
   "id": "26f48465",
   "metadata": {},
   "outputs": [],
   "source": [
    "df['contact_id'] = df_labels['contact_id']\n",
    "df['step'] = df_labels['step']"
   ]
  },
  {
   "cell_type": "code",
   "execution_count": 5,
   "id": "ae924970",
   "metadata": {},
   "outputs": [
    {
     "data": {
      "text/plain": [
       "Index(['Unnamed: 0', 'game_play', 'datetime', 'nfl_player_id_1',\n",
       "       'nfl_player_id_2', 'contact', 'start_time', 'frame_number',\n",
       "       'left_sideline_p1', 'top_sideline_p1', 'left_sideline_p2',\n",
       "       'top_sideline_p2', 'left_endzone_p1', 'top_endzone_p1',\n",
       "       'left_endzone_p2', 'top_endzone_p2', 'jersey_num_p1', 'x_p1', 'y_p1',\n",
       "       'speed_p1', 'distance_p1', 'direction_p1', 'orientation_p1',\n",
       "       'acceleration_p1', 'sa_p1', 'jersey_num_p2', 'x_p2', 'y_p2', 'speed_p2',\n",
       "       'distance_p2', 'direction_p2', 'orientation_p2', 'acceleration_p2',\n",
       "       'sa_p2', 'contact_id', 'step'],\n",
       "      dtype='object')"
      ]
     },
     "execution_count": 5,
     "metadata": {},
     "output_type": "execute_result"
    }
   ],
   "source": [
    "df.columns"
   ]
  },
  {
   "cell_type": "code",
   "execution_count": 6,
   "id": "b497c1ff",
   "metadata": {},
   "outputs": [
    {
     "data": {
      "text/plain": [
       "(4721618, 36)"
      ]
     },
     "execution_count": 6,
     "metadata": {},
     "output_type": "execute_result"
    }
   ],
   "source": [
    "df.shape"
   ]
  },
  {
   "cell_type": "markdown",
   "id": "63d22fdb",
   "metadata": {},
   "source": [
    "On garde la distance plus les infos sur direction orentation accel etc"
   ]
  },
  {
   "cell_type": "code",
   "execution_count": 7,
   "id": "0e81615b",
   "metadata": {},
   "outputs": [],
   "source": [
    "import numpy as np\n",
    "\n",
    "df['dist'] = np.sqrt((df.x_p2 - df.x_p1) ** 2 + (df.y_p2 - df.y_p1) ** 2)"
   ]
  },
  {
   "cell_type": "code",
   "execution_count": 8,
   "id": "21f51560",
   "metadata": {},
   "outputs": [
    {
     "data": {
      "text/plain": [
       "240"
      ]
     },
     "execution_count": 8,
     "metadata": {},
     "output_type": "execute_result"
    }
   ],
   "source": [
    "df.game_play.nunique()"
   ]
  },
  {
   "cell_type": "code",
   "execution_count": 9,
   "id": "fb3272d0",
   "metadata": {},
   "outputs": [],
   "source": [
    "df = df.sort_values('game_play')"
   ]
  },
  {
   "cell_type": "code",
   "execution_count": 10,
   "id": "16926b61",
   "metadata": {},
   "outputs": [],
   "source": [
    "df = df[df.dist < 1.65].copy()"
   ]
  },
  {
   "cell_type": "code",
   "execution_count": 11,
   "id": "f48e6c8c",
   "metadata": {},
   "outputs": [],
   "source": [
    "mask = df['game_play'].isin(df['game_play'].unique()[:192])\n",
    "\n",
    "df_train = df[mask]\n",
    "df_test = df[~mask]"
   ]
  },
  {
   "cell_type": "code",
   "execution_count": 12,
   "id": "28f538b8",
   "metadata": {},
   "outputs": [
    {
     "data": {
      "text/plain": [
       "(143430, 37)"
      ]
     },
     "execution_count": 12,
     "metadata": {},
     "output_type": "execute_result"
    }
   ],
   "source": [
    "df_train.shape"
   ]
  },
  {
   "cell_type": "code",
   "execution_count": 13,
   "id": "1d7e1e03",
   "metadata": {},
   "outputs": [
    {
     "data": {
      "text/plain": [
       "(36486, 37)"
      ]
     },
     "execution_count": 13,
     "metadata": {},
     "output_type": "execute_result"
    }
   ],
   "source": [
    "df_test.shape"
   ]
  },
  {
   "cell_type": "code",
   "execution_count": 14,
   "id": "040e29db",
   "metadata": {},
   "outputs": [],
   "source": [
    "cols_to_keep = ['game_play', 'datetime', 'nfl_player_id_1', 'nfl_player_id_2', 'jersey_num_p1', \n",
    "                'jersey_num_p2', 'speed_p1', 'distance_p1', 'direction_p1', 'orientation_p1',\n",
    "       'acceleration_p1', 'sa_p1', 'dist', 'speed_p2',\n",
    "       'distance_p2', 'direction_p2', 'orientation_p2', 'acceleration_p2',\n",
    "       'sa_p2', 'contact_id', 'step']\n",
    "target = 'contact'"
   ]
  },
  {
   "cell_type": "code",
   "execution_count": 15,
   "id": "7f7dce5c",
   "metadata": {},
   "outputs": [],
   "source": [
    "X_train = df_train[cols_to_keep]\n",
    "y_train = df_train[target]\n",
    "\n",
    "X_test = df_test[cols_to_keep]\n",
    "y_test = df_test[target]"
   ]
  },
  {
   "cell_type": "code",
   "execution_count": 16,
   "id": "e6b0cd91",
   "metadata": {},
   "outputs": [
    {
     "data": {
      "text/plain": [
       "((143430, 21), (143430,))"
      ]
     },
     "execution_count": 16,
     "metadata": {},
     "output_type": "execute_result"
    }
   ],
   "source": [
    "X_train.shape, y_train.shape"
   ]
  },
  {
   "cell_type": "code",
   "execution_count": 17,
   "id": "2abf468e",
   "metadata": {},
   "outputs": [
    {
     "data": {
      "text/plain": [
       "((36486, 21), (36486,))"
      ]
     },
     "execution_count": 17,
     "metadata": {},
     "output_type": "execute_result"
    }
   ],
   "source": [
    "X_test.shape, y_test.shape"
   ]
  },
  {
   "cell_type": "code",
   "execution_count": 18,
   "id": "316f43a6",
   "metadata": {},
   "outputs": [
    {
     "data": {
      "text/plain": [
       "game_play          0\n",
       "datetime           0\n",
       "nfl_player_id_1    0\n",
       "nfl_player_id_2    0\n",
       "jersey_num_p1      0\n",
       "jersey_num_p2      0\n",
       "speed_p1           0\n",
       "distance_p1        0\n",
       "direction_p1       0\n",
       "orientation_p1     0\n",
       "acceleration_p1    0\n",
       "sa_p1              0\n",
       "dist               0\n",
       "speed_p2           0\n",
       "distance_p2        0\n",
       "direction_p2       0\n",
       "orientation_p2     0\n",
       "acceleration_p2    0\n",
       "sa_p2              0\n",
       "contact_id         0\n",
       "step               0\n",
       "dtype: int64"
      ]
     },
     "execution_count": 18,
     "metadata": {},
     "output_type": "execute_result"
    }
   ],
   "source": [
    "X_train.isna().sum()"
   ]
  },
  {
   "cell_type": "code",
   "execution_count": 19,
   "id": "9991d846",
   "metadata": {},
   "outputs": [
    {
     "data": {
      "text/plain": [
       "game_play          0\n",
       "datetime           0\n",
       "nfl_player_id_1    0\n",
       "nfl_player_id_2    0\n",
       "jersey_num_p1      0\n",
       "jersey_num_p2      0\n",
       "speed_p1           0\n",
       "distance_p1        0\n",
       "direction_p1       0\n",
       "orientation_p1     0\n",
       "acceleration_p1    0\n",
       "sa_p1              0\n",
       "dist               0\n",
       "speed_p2           0\n",
       "distance_p2        0\n",
       "direction_p2       0\n",
       "orientation_p2     0\n",
       "acceleration_p2    0\n",
       "sa_p2              0\n",
       "contact_id         0\n",
       "step               0\n",
       "dtype: int64"
      ]
     },
     "execution_count": 19,
     "metadata": {},
     "output_type": "execute_result"
    }
   ],
   "source": [
    "X_test.isnull().sum()"
   ]
  },
  {
   "cell_type": "code",
   "execution_count": 20,
   "id": "2376da14",
   "metadata": {},
   "outputs": [
    {
     "data": {
      "text/html": [
       "<style>#sk-container-id-1 {color: black;background-color: white;}#sk-container-id-1 pre{padding: 0;}#sk-container-id-1 div.sk-toggleable {background-color: white;}#sk-container-id-1 label.sk-toggleable__label {cursor: pointer;display: block;width: 100%;margin-bottom: 0;padding: 0.3em;box-sizing: border-box;text-align: center;}#sk-container-id-1 label.sk-toggleable__label-arrow:before {content: \"▸\";float: left;margin-right: 0.25em;color: #696969;}#sk-container-id-1 label.sk-toggleable__label-arrow:hover:before {color: black;}#sk-container-id-1 div.sk-estimator:hover label.sk-toggleable__label-arrow:before {color: black;}#sk-container-id-1 div.sk-toggleable__content {max-height: 0;max-width: 0;overflow: hidden;text-align: left;background-color: #f0f8ff;}#sk-container-id-1 div.sk-toggleable__content pre {margin: 0.2em;color: black;border-radius: 0.25em;background-color: #f0f8ff;}#sk-container-id-1 input.sk-toggleable__control:checked~div.sk-toggleable__content {max-height: 200px;max-width: 100%;overflow: auto;}#sk-container-id-1 input.sk-toggleable__control:checked~label.sk-toggleable__label-arrow:before {content: \"▾\";}#sk-container-id-1 div.sk-estimator input.sk-toggleable__control:checked~label.sk-toggleable__label {background-color: #d4ebff;}#sk-container-id-1 div.sk-label input.sk-toggleable__control:checked~label.sk-toggleable__label {background-color: #d4ebff;}#sk-container-id-1 input.sk-hidden--visually {border: 0;clip: rect(1px 1px 1px 1px);clip: rect(1px, 1px, 1px, 1px);height: 1px;margin: -1px;overflow: hidden;padding: 0;position: absolute;width: 1px;}#sk-container-id-1 div.sk-estimator {font-family: monospace;background-color: #f0f8ff;border: 1px dotted black;border-radius: 0.25em;box-sizing: border-box;margin-bottom: 0.5em;}#sk-container-id-1 div.sk-estimator:hover {background-color: #d4ebff;}#sk-container-id-1 div.sk-parallel-item::after {content: \"\";width: 100%;border-bottom: 1px solid gray;flex-grow: 1;}#sk-container-id-1 div.sk-label:hover label.sk-toggleable__label {background-color: #d4ebff;}#sk-container-id-1 div.sk-serial::before {content: \"\";position: absolute;border-left: 1px solid gray;box-sizing: border-box;top: 0;bottom: 0;left: 50%;z-index: 0;}#sk-container-id-1 div.sk-serial {display: flex;flex-direction: column;align-items: center;background-color: white;padding-right: 0.2em;padding-left: 0.2em;position: relative;}#sk-container-id-1 div.sk-item {position: relative;z-index: 1;}#sk-container-id-1 div.sk-parallel {display: flex;align-items: stretch;justify-content: center;background-color: white;position: relative;}#sk-container-id-1 div.sk-item::before, #sk-container-id-1 div.sk-parallel-item::before {content: \"\";position: absolute;border-left: 1px solid gray;box-sizing: border-box;top: 0;bottom: 0;left: 50%;z-index: -1;}#sk-container-id-1 div.sk-parallel-item {display: flex;flex-direction: column;z-index: 1;position: relative;background-color: white;}#sk-container-id-1 div.sk-parallel-item:first-child::after {align-self: flex-end;width: 50%;}#sk-container-id-1 div.sk-parallel-item:last-child::after {align-self: flex-start;width: 50%;}#sk-container-id-1 div.sk-parallel-item:only-child::after {width: 0;}#sk-container-id-1 div.sk-dashed-wrapped {border: 1px dashed gray;margin: 0 0.4em 0.5em 0.4em;box-sizing: border-box;padding-bottom: 0.4em;background-color: white;}#sk-container-id-1 div.sk-label label {font-family: monospace;font-weight: bold;display: inline-block;line-height: 1.2em;}#sk-container-id-1 div.sk-label-container {text-align: center;}#sk-container-id-1 div.sk-container {/* jupyter's `normalize.less` sets `[hidden] { display: none; }` but bootstrap.min.css set `[hidden] { display: none !important; }` so we also need the `!important` here to be able to override the default hidden behavior on the sphinx rendered scikit-learn.org. See: https://github.com/scikit-learn/scikit-learn/issues/21755 */display: inline-block !important;position: relative;}#sk-container-id-1 div.sk-text-repr-fallback {display: none;}</style><div id=\"sk-container-id-1\" class=\"sk-top-container\"><div class=\"sk-text-repr-fallback\"><pre>XGBClassifier(base_score=0.5, booster=&#x27;gbtree&#x27;, callbacks=None,\n",
       "              colsample_bylevel=1, colsample_bynode=1, colsample_bytree=1,\n",
       "              early_stopping_rounds=None, enable_categorical=False,\n",
       "              eval_metric=None, feature_types=None, gamma=0, gpu_id=-1,\n",
       "              grow_policy=&#x27;depthwise&#x27;, importance_type=None,\n",
       "              interaction_constraints=&#x27;&#x27;, learning_rate=0.300000012,\n",
       "              max_bin=256, max_cat_threshold=64, max_cat_to_onehot=4,\n",
       "              max_delta_step=0, max_depth=6, max_leaves=0, min_child_weight=1,\n",
       "              missing=nan, monotone_constraints=&#x27;()&#x27;, n_estimators=100,\n",
       "              n_jobs=0, num_parallel_tree=1, predictor=&#x27;auto&#x27;, random_state=0, ...)</pre><b>In a Jupyter environment, please rerun this cell to show the HTML representation or trust the notebook. <br />On GitHub, the HTML representation is unable to render, please try loading this page with nbviewer.org.</b></div><div class=\"sk-container\" hidden><div class=\"sk-item\"><div class=\"sk-estimator sk-toggleable\"><input class=\"sk-toggleable__control sk-hidden--visually\" id=\"sk-estimator-id-1\" type=\"checkbox\" checked><label for=\"sk-estimator-id-1\" class=\"sk-toggleable__label sk-toggleable__label-arrow\">XGBClassifier</label><div class=\"sk-toggleable__content\"><pre>XGBClassifier(base_score=0.5, booster=&#x27;gbtree&#x27;, callbacks=None,\n",
       "              colsample_bylevel=1, colsample_bynode=1, colsample_bytree=1,\n",
       "              early_stopping_rounds=None, enable_categorical=False,\n",
       "              eval_metric=None, feature_types=None, gamma=0, gpu_id=-1,\n",
       "              grow_policy=&#x27;depthwise&#x27;, importance_type=None,\n",
       "              interaction_constraints=&#x27;&#x27;, learning_rate=0.300000012,\n",
       "              max_bin=256, max_cat_threshold=64, max_cat_to_onehot=4,\n",
       "              max_delta_step=0, max_depth=6, max_leaves=0, min_child_weight=1,\n",
       "              missing=nan, monotone_constraints=&#x27;()&#x27;, n_estimators=100,\n",
       "              n_jobs=0, num_parallel_tree=1, predictor=&#x27;auto&#x27;, random_state=0, ...)</pre></div></div></div></div></div>"
      ],
      "text/plain": [
       "XGBClassifier(base_score=0.5, booster='gbtree', callbacks=None,\n",
       "              colsample_bylevel=1, colsample_bynode=1, colsample_bytree=1,\n",
       "              early_stopping_rounds=None, enable_categorical=False,\n",
       "              eval_metric=None, feature_types=None, gamma=0, gpu_id=-1,\n",
       "              grow_policy='depthwise', importance_type=None,\n",
       "              interaction_constraints='', learning_rate=0.300000012,\n",
       "              max_bin=256, max_cat_threshold=64, max_cat_to_onehot=4,\n",
       "              max_delta_step=0, max_depth=6, max_leaves=0, min_child_weight=1,\n",
       "              missing=nan, monotone_constraints='()', n_estimators=100,\n",
       "              n_jobs=0, num_parallel_tree=1, predictor='auto', random_state=0, ...)"
      ]
     },
     "execution_count": 20,
     "metadata": {},
     "output_type": "execute_result"
    }
   ],
   "source": [
    "import xgboost as xgb\n",
    "model = xgb.XGBClassifier()\n",
    "model.fit(X_train.drop(columns=['game_play', 'datetime', 'nfl_player_id_1', 'nfl_player_id_2', 'jersey_num_p1', \n",
    "                'jersey_num_p2', 'contact_id', 'step']), y_train)"
   ]
  },
  {
   "cell_type": "code",
   "execution_count": 21,
   "id": "51d25f9b",
   "metadata": {},
   "outputs": [
    {
     "name": "stdout",
     "output_type": "stream",
     "text": [
      "              precision    recall  f1-score   support\n",
      "\n",
      "           0       0.86      0.90      0.88     27218\n",
      "           1       0.68      0.58      0.63      9268\n",
      "\n",
      "    accuracy                           0.82     36486\n",
      "   macro avg       0.77      0.74      0.76     36486\n",
      "weighted avg       0.82      0.82      0.82     36486\n",
      "\n"
     ]
    }
   ],
   "source": [
    "from sklearn.metrics import classification_report\n",
    "y_pred = model.predict(X_test.drop(columns=['game_play', 'datetime', 'nfl_player_id_1', 'nfl_player_id_2', 'jersey_num_p1', \n",
    "                'jersey_num_p2', 'contact_id', 'step']))\n",
    "print(classification_report(y_test, y_pred))"
   ]
  },
  {
   "cell_type": "code",
   "execution_count": 22,
   "id": "f9d8b85e",
   "metadata": {},
   "outputs": [
    {
     "name": "stdout",
     "output_type": "stream",
     "text": [
      "[[24612  2606]\n",
      " [ 3849  5419]]\n"
     ]
    }
   ],
   "source": [
    "from sklearn.metrics import confusion_matrix\n",
    "print(confusion_matrix(y_test, y_pred))"
   ]
  },
  {
   "cell_type": "code",
   "execution_count": 23,
   "id": "440a0779",
   "metadata": {},
   "outputs": [
    {
     "name": "stdout",
     "output_type": "stream",
     "text": [
      "0.5138567174422605\n",
      "0.45637527370725955\n"
     ]
    }
   ],
   "source": [
    "from sklearn.metrics import matthews_corrcoef, jaccard_score\n",
    "print(matthews_corrcoef(y_test, y_pred))\n",
    "print(jaccard_score(y_test, y_pred))"
   ]
  },
  {
   "cell_type": "code",
   "execution_count": 24,
   "id": "0b3d58ca",
   "metadata": {},
   "outputs": [],
   "source": [
    "y_probas = model.predict_proba(X_test.drop(columns=['game_play', 'datetime', 'nfl_player_id_1', 'nfl_player_id_2', 'jersey_num_p1', \n",
    "                'jersey_num_p2', 'contact_id', 'step']))"
   ]
  },
  {
   "cell_type": "code",
   "execution_count": 25,
   "id": "77385f8e",
   "metadata": {},
   "outputs": [
    {
     "data": {
      "text/plain": [
       "(11925, 2)"
      ]
     },
     "execution_count": 25,
     "metadata": {},
     "output_type": "execute_result"
    }
   ],
   "source": [
    "y_probas[np.where(y_probas[:,1] > 0.3)].shape"
   ]
  },
  {
   "cell_type": "code",
   "execution_count": 26,
   "id": "fc791ffb",
   "metadata": {},
   "outputs": [],
   "source": [
    "y_pred_2 = np.zeros_like(y_pred)\n",
    "y_pred_2[np.where(y_probas[:,1] > 0.3)] = 1"
   ]
  },
  {
   "cell_type": "code",
   "execution_count": 27,
   "id": "1642406e",
   "metadata": {
    "scrolled": true
   },
   "outputs": [
    {
     "name": "stdout",
     "output_type": "stream",
     "text": [
      "              precision    recall  f1-score   support\n",
      "\n",
      "           0       0.91      0.82      0.86     27218\n",
      "           1       0.58      0.75      0.66      9268\n",
      "\n",
      "    accuracy                           0.80     36486\n",
      "   macro avg       0.75      0.78      0.76     36486\n",
      "weighted avg       0.82      0.80      0.81     36486\n",
      "\n",
      "[[22262  4956]\n",
      " [ 2299  6969]]\n"
     ]
    }
   ],
   "source": [
    "print(classification_report(y_test, y_pred_2))\n",
    "print(confusion_matrix(y_test, y_pred_2))"
   ]
  },
  {
   "cell_type": "code",
   "execution_count": 28,
   "id": "796ead44",
   "metadata": {},
   "outputs": [
    {
     "name": "stdout",
     "output_type": "stream",
     "text": [
      "Confusion Matrix:\n"
     ]
    },
    {
     "data": {
      "text/plain": [
       "<sklearn.metrics._plot.confusion_matrix.ConfusionMatrixDisplay at 0x7fdf4e3aeaf0>"
      ]
     },
     "execution_count": 28,
     "metadata": {},
     "output_type": "execute_result"
    },
    {
     "data": {
      "image/png": "[encoded data removed]",
      "text/plain": [
       "<Figure size 360x360 with 2 Axes>"
      ]
     },
     "metadata": {
      "needs_background": "light"
     },
     "output_type": "display_data"
    }
   ],
   "source": [
    "import matplotlib.pyplot as plt\n",
    "from sklearn.metrics import ConfusionMatrixDisplay\n",
    "\n",
    "print('Confusion Matrix:')\n",
    "cm = confusion_matrix(y_test, y_pred_2)\n",
    "f, ax = plt.subplots(figsize=(5,5))\n",
    "cmp = ConfusionMatrixDisplay(cm)\n",
    "cmp.plot(ax=ax)"
   ]
  },
  {
   "cell_type": "code",
   "execution_count": 29,
   "id": "7f611773",
   "metadata": {},
   "outputs": [
    {
     "name": "stdout",
     "output_type": "stream",
     "text": [
      "0.5288525737260267\n",
      "0.48994656917885265\n"
     ]
    }
   ],
   "source": [
    "from sklearn.metrics import matthews_corrcoef, jaccard_score\n",
    "print(matthews_corrcoef(y_test, y_pred_2))\n",
    "print(jaccard_score(y_test, y_pred_2))"
   ]
  },
  {
   "cell_type": "code",
   "execution_count": 30,
   "id": "c4a2e641",
   "metadata": {},
   "outputs": [
    {
     "data": {
      "text/plain": [
       "0    27218\n",
       "1     9268\n",
       "Name: contact, dtype: int64"
      ]
     },
     "execution_count": 30,
     "metadata": {},
     "output_type": "execute_result"
    }
   ],
   "source": [
    "y_test.value_counts()"
   ]
  },
  {
   "cell_type": "code",
   "execution_count": 31,
   "id": "d8e8b7fc",
   "metadata": {},
   "outputs": [
    {
     "data": {
      "text/plain": [
       "(36486,)"
      ]
     },
     "execution_count": 31,
     "metadata": {},
     "output_type": "execute_result"
    }
   ],
   "source": [
    "y_pred_2.shape"
   ]
  },
  {
   "cell_type": "code",
   "execution_count": 32,
   "id": "33083307",
   "metadata": {
    "scrolled": true
   },
   "outputs": [
    {
     "data": {
      "text/plain": [
       "(36486, 2)"
      ]
     },
     "execution_count": 32,
     "metadata": {},
     "output_type": "execute_result"
    }
   ],
   "source": [
    "y_probas.shape"
   ]
  },
  {
   "cell_type": "code",
   "execution_count": 33,
   "id": "0747c9f2",
   "metadata": {},
   "outputs": [
    {
     "data": {
      "text/html": [
       "<div>\n",
       "<style scoped>\n",
       "    .dataframe tbody tr th:only-of-type {\n",
       "        vertical-align: middle;\n",
       "    }\n",
       "\n",
       "    .dataframe tbody tr th {\n",
       "        vertical-align: top;\n",
       "    }\n",
       "\n",
       "    .dataframe thead th {\n",
       "        text-align: right;\n",
       "    }\n",
       "</style>\n",
       "<table border=\"1\" class=\"dataframe\">\n",
       "  <thead>\n",
       "    <tr style=\"text-align: right;\">\n",
       "      <th></th>\n",
       "      <th>game_play</th>\n",
       "      <th>datetime</th>\n",
       "      <th>nfl_player_id_1</th>\n",
       "      <th>nfl_player_id_2</th>\n",
       "      <th>jersey_num_p1</th>\n",
       "      <th>jersey_num_p2</th>\n",
       "      <th>speed_p1</th>\n",
       "      <th>distance_p1</th>\n",
       "      <th>direction_p1</th>\n",
       "      <th>orientation_p1</th>\n",
       "      <th>...</th>\n",
       "      <th>sa_p1</th>\n",
       "      <th>dist</th>\n",
       "      <th>speed_p2</th>\n",
       "      <th>distance_p2</th>\n",
       "      <th>direction_p2</th>\n",
       "      <th>orientation_p2</th>\n",
       "      <th>acceleration_p2</th>\n",
       "      <th>sa_p2</th>\n",
       "      <th>contact_id</th>\n",
       "      <th>step</th>\n",
       "    </tr>\n",
       "  </thead>\n",
       "  <tbody>\n",
       "    <tr>\n",
       "      <th>3833894</th>\n",
       "      <td>58530_001942</td>\n",
       "      <td>2021-09-19 21:25:24.000</td>\n",
       "      <td>40151</td>\n",
       "      <td>42480</td>\n",
       "      <td>66</td>\n",
       "      <td>97.0</td>\n",
       "      <td>0.89</td>\n",
       "      <td>0.09</td>\n",
       "      <td>138.90</td>\n",
       "      <td>141.34</td>\n",
       "      <td>...</td>\n",
       "      <td>0.56</td>\n",
       "      <td>1.322800</td>\n",
       "      <td>1.43</td>\n",
       "      <td>0.14</td>\n",
       "      <td>138.38</td>\n",
       "      <td>130.58</td>\n",
       "      <td>0.95</td>\n",
       "      <td>-0.26</td>\n",
       "      <td>58530_001942_42_40151_42480</td>\n",
       "      <td>42</td>\n",
       "    </tr>\n",
       "    <tr>\n",
       "      <th>3833887</th>\n",
       "      <td>58530_001942</td>\n",
       "      <td>2021-09-19 21:25:24.000</td>\n",
       "      <td>40151</td>\n",
       "      <td>42346</td>\n",
       "      <td>66</td>\n",
       "      <td>6.0</td>\n",
       "      <td>0.89</td>\n",
       "      <td>0.09</td>\n",
       "      <td>138.90</td>\n",
       "      <td>141.34</td>\n",
       "      <td>...</td>\n",
       "      <td>0.56</td>\n",
       "      <td>1.089082</td>\n",
       "      <td>0.81</td>\n",
       "      <td>0.07</td>\n",
       "      <td>157.25</td>\n",
       "      <td>194.23</td>\n",
       "      <td>0.82</td>\n",
       "      <td>0.75</td>\n",
       "      <td>58530_001942_42_40151_42346</td>\n",
       "      <td>42</td>\n",
       "    </tr>\n",
       "    <tr>\n",
       "      <th>3833889</th>\n",
       "      <td>58530_001942</td>\n",
       "      <td>2021-09-19 21:25:24.000</td>\n",
       "      <td>40151</td>\n",
       "      <td>44816</td>\n",
       "      <td>66</td>\n",
       "      <td>7.0</td>\n",
       "      <td>0.89</td>\n",
       "      <td>0.09</td>\n",
       "      <td>138.90</td>\n",
       "      <td>141.34</td>\n",
       "      <td>...</td>\n",
       "      <td>0.56</td>\n",
       "      <td>1.366053</td>\n",
       "      <td>1.28</td>\n",
       "      <td>0.13</td>\n",
       "      <td>206.76</td>\n",
       "      <td>154.39</td>\n",
       "      <td>1.28</td>\n",
       "      <td>0.79</td>\n",
       "      <td>58530_001942_42_40151_44816</td>\n",
       "      <td>42</td>\n",
       "    </tr>\n",
       "    <tr>\n",
       "      <th>3833860</th>\n",
       "      <td>58530_001942</td>\n",
       "      <td>2021-09-19 21:25:24.000</td>\n",
       "      <td>42404</td>\n",
       "      <td>42497</td>\n",
       "      <td>74</td>\n",
       "      <td>96.0</td>\n",
       "      <td>0.68</td>\n",
       "      <td>0.07</td>\n",
       "      <td>69.28</td>\n",
       "      <td>201.59</td>\n",
       "      <td>...</td>\n",
       "      <td>-1.11</td>\n",
       "      <td>1.432934</td>\n",
       "      <td>1.54</td>\n",
       "      <td>0.16</td>\n",
       "      <td>113.61</td>\n",
       "      <td>156.32</td>\n",
       "      <td>1.61</td>\n",
       "      <td>-1.50</td>\n",
       "      <td>58530_001942_42_42404_42497</td>\n",
       "      <td>42</td>\n",
       "    </tr>\n",
       "    <tr>\n",
       "      <th>3833935</th>\n",
       "      <td>58530_001942</td>\n",
       "      <td>2021-09-19 21:25:24.000</td>\n",
       "      <td>41667</td>\n",
       "      <td>43361</td>\n",
       "      <td>72</td>\n",
       "      <td>99.0</td>\n",
       "      <td>0.91</td>\n",
       "      <td>0.10</td>\n",
       "      <td>216.77</td>\n",
       "      <td>146.70</td>\n",
       "      <td>...</td>\n",
       "      <td>-0.91</td>\n",
       "      <td>0.605392</td>\n",
       "      <td>0.22</td>\n",
       "      <td>0.02</td>\n",
       "      <td>254.81</td>\n",
       "      <td>171.73</td>\n",
       "      <td>0.53</td>\n",
       "      <td>-0.34</td>\n",
       "      <td>58530_001942_42_41667_43361</td>\n",
       "      <td>42</td>\n",
       "    </tr>\n",
       "    <tr>\n",
       "      <th>...</th>\n",
       "      <td>...</td>\n",
       "      <td>...</td>\n",
       "      <td>...</td>\n",
       "      <td>...</td>\n",
       "      <td>...</td>\n",
       "      <td>...</td>\n",
       "      <td>...</td>\n",
       "      <td>...</td>\n",
       "      <td>...</td>\n",
       "      <td>...</td>\n",
       "      <td>...</td>\n",
       "      <td>...</td>\n",
       "      <td>...</td>\n",
       "      <td>...</td>\n",
       "      <td>...</td>\n",
       "      <td>...</td>\n",
       "      <td>...</td>\n",
       "      <td>...</td>\n",
       "      <td>...</td>\n",
       "      <td>...</td>\n",
       "      <td>...</td>\n",
       "    </tr>\n",
       "    <tr>\n",
       "      <th>4706224</th>\n",
       "      <td>58582_003121</td>\n",
       "      <td>2021-10-12 02:42:23.100</td>\n",
       "      <td>41222</td>\n",
       "      <td>43296</td>\n",
       "      <td>78</td>\n",
       "      <td>99.0</td>\n",
       "      <td>2.59</td>\n",
       "      <td>0.29</td>\n",
       "      <td>298.01</td>\n",
       "      <td>24.77</td>\n",
       "      <td>...</td>\n",
       "      <td>-0.45</td>\n",
       "      <td>1.183765</td>\n",
       "      <td>0.04</td>\n",
       "      <td>0.01</td>\n",
       "      <td>114.64</td>\n",
       "      <td>176.72</td>\n",
       "      <td>2.84</td>\n",
       "      <td>2.82</td>\n",
       "      <td>58582_003121_31_41222_43296</td>\n",
       "      <td>31</td>\n",
       "    </tr>\n",
       "    <tr>\n",
       "      <th>4706214</th>\n",
       "      <td>58582_003121</td>\n",
       "      <td>2021-10-12 02:42:23.100</td>\n",
       "      <td>46121</td>\n",
       "      <td>48220</td>\n",
       "      <td>57</td>\n",
       "      <td>65.0</td>\n",
       "      <td>2.29</td>\n",
       "      <td>0.24</td>\n",
       "      <td>23.00</td>\n",
       "      <td>0.28</td>\n",
       "      <td>...</td>\n",
       "      <td>0.10</td>\n",
       "      <td>0.920272</td>\n",
       "      <td>1.95</td>\n",
       "      <td>0.19</td>\n",
       "      <td>15.30</td>\n",
       "      <td>120.56</td>\n",
       "      <td>2.50</td>\n",
       "      <td>0.73</td>\n",
       "      <td>58582_003121_31_46121_48220</td>\n",
       "      <td>31</td>\n",
       "    </tr>\n",
       "    <tr>\n",
       "      <th>4706330</th>\n",
       "      <td>58582_003121</td>\n",
       "      <td>2021-10-12 02:42:23.100</td>\n",
       "      <td>45009</td>\n",
       "      <td>47906</td>\n",
       "      <td>97</td>\n",
       "      <td>72.0</td>\n",
       "      <td>3.16</td>\n",
       "      <td>0.32</td>\n",
       "      <td>167.72</td>\n",
       "      <td>200.23</td>\n",
       "      <td>...</td>\n",
       "      <td>0.45</td>\n",
       "      <td>1.324387</td>\n",
       "      <td>1.69</td>\n",
       "      <td>0.17</td>\n",
       "      <td>162.56</td>\n",
       "      <td>75.89</td>\n",
       "      <td>2.24</td>\n",
       "      <td>0.91</td>\n",
       "      <td>58582_003121_31_45009_47906</td>\n",
       "      <td>31</td>\n",
       "    </tr>\n",
       "    <tr>\n",
       "      <th>4706020</th>\n",
       "      <td>58582_003121</td>\n",
       "      <td>2021-10-12 02:42:23.000</td>\n",
       "      <td>46133</td>\n",
       "      <td>46284</td>\n",
       "      <td>94</td>\n",
       "      <td>77.0</td>\n",
       "      <td>2.96</td>\n",
       "      <td>0.30</td>\n",
       "      <td>0.58</td>\n",
       "      <td>312.10</td>\n",
       "      <td>...</td>\n",
       "      <td>1.00</td>\n",
       "      <td>1.553222</td>\n",
       "      <td>1.75</td>\n",
       "      <td>0.17</td>\n",
       "      <td>303.67</td>\n",
       "      <td>89.95</td>\n",
       "      <td>1.41</td>\n",
       "      <td>-0.15</td>\n",
       "      <td>58582_003121_30_46133_46284</td>\n",
       "      <td>30</td>\n",
       "    </tr>\n",
       "    <tr>\n",
       "      <th>4706077</th>\n",
       "      <td>58582_003121</td>\n",
       "      <td>2021-10-12 02:42:23.000</td>\n",
       "      <td>45009</td>\n",
       "      <td>47906</td>\n",
       "      <td>97</td>\n",
       "      <td>72.0</td>\n",
       "      <td>2.98</td>\n",
       "      <td>0.30</td>\n",
       "      <td>163.53</td>\n",
       "      <td>202.59</td>\n",
       "      <td>...</td>\n",
       "      <td>0.96</td>\n",
       "      <td>1.400714</td>\n",
       "      <td>1.48</td>\n",
       "      <td>0.15</td>\n",
       "      <td>170.85</td>\n",
       "      <td>75.89</td>\n",
       "      <td>2.77</td>\n",
       "      <td>0.74</td>\n",
       "      <td>58582_003121_30_45009_47906</td>\n",
       "      <td>30</td>\n",
       "    </tr>\n",
       "  </tbody>\n",
       "</table>\n",
       "<p>36486 rows × 21 columns</p>\n",
       "</div>"
      ],
      "text/plain": [
       "            game_play                 datetime  nfl_player_id_1  \\\n",
       "3833894  58530_001942  2021-09-19 21:25:24.000            40151   \n",
       "3833887  58530_001942  2021-09-19 21:25:24.000            40151   \n",
       "3833889  58530_001942  2021-09-19 21:25:24.000            40151   \n",
       "3833860  58530_001942  2021-09-19 21:25:24.000            42404   \n",
       "3833935  58530_001942  2021-09-19 21:25:24.000            41667   \n",
       "...               ...                      ...              ...   \n",
       "4706224  58582_003121  2021-10-12 02:42:23.100            41222   \n",
       "4706214  58582_003121  2021-10-12 02:42:23.100            46121   \n",
       "4706330  58582_003121  2021-10-12 02:42:23.100            45009   \n",
       "4706020  58582_003121  2021-10-12 02:42:23.000            46133   \n",
       "4706077  58582_003121  2021-10-12 02:42:23.000            45009   \n",
       "\n",
       "         nfl_player_id_2  jersey_num_p1  jersey_num_p2  speed_p1  distance_p1  \\\n",
       "3833894            42480             66           97.0      0.89         0.09   \n",
       "3833887            42346             66            6.0      0.89         0.09   \n",
       "3833889            44816             66            7.0      0.89         0.09   \n",
       "3833860            42497             74           96.0      0.68         0.07   \n",
       "3833935            43361             72           99.0      0.91         0.10   \n",
       "...                  ...            ...            ...       ...          ...   \n",
       "4706224            43296             78           99.0      2.59         0.29   \n",
       "4706214            48220             57           65.0      2.29         0.24   \n",
       "4706330            47906             97           72.0      3.16         0.32   \n",
       "4706020            46284             94           77.0      2.96         0.30   \n",
       "4706077            47906             97           72.0      2.98         0.30   \n",
       "\n",
       "         direction_p1  orientation_p1  ...  sa_p1      dist  speed_p2  \\\n",
       "3833894        138.90          141.34  ...   0.56  1.322800      1.43   \n",
       "3833887        138.90          141.34  ...   0.56  1.089082      0.81   \n",
       "3833889        138.90          141.34  ...   0.56  1.366053      1.28   \n",
       "3833860         69.28          201.59  ...  -1.11  1.432934      1.54   \n",
       "3833935        216.77          146.70  ...  -0.91  0.605392      0.22   \n",
       "...               ...             ...  ...    ...       ...       ...   \n",
       "4706224        298.01           24.77  ...  -0.45  1.183765      0.04   \n",
       "4706214         23.00            0.28  ...   0.10  0.920272      1.95   \n",
       "4706330        167.72          200.23  ...   0.45  1.324387      1.69   \n",
       "4706020          0.58          312.10  ...   1.00  1.553222      1.75   \n",
       "4706077        163.53          202.59  ...   0.96  1.400714      1.48   \n",
       "\n",
       "         distance_p2  direction_p2  orientation_p2  acceleration_p2  sa_p2  \\\n",
       "3833894         0.14        138.38          130.58             0.95  -0.26   \n",
       "3833887         0.07        157.25          194.23             0.82   0.75   \n",
       "3833889         0.13        206.76          154.39             1.28   0.79   \n",
       "3833860         0.16        113.61          156.32             1.61  -1.50   \n",
       "3833935         0.02        254.81          171.73             0.53  -0.34   \n",
       "...              ...           ...             ...              ...    ...   \n",
       "4706224         0.01        114.64          176.72             2.84   2.82   \n",
       "4706214         0.19         15.30          120.56             2.50   0.73   \n",
       "4706330         0.17        162.56           75.89             2.24   0.91   \n",
       "4706020         0.17        303.67           89.95             1.41  -0.15   \n",
       "4706077         0.15        170.85           75.89             2.77   0.74   \n",
       "\n",
       "                          contact_id step  \n",
       "3833894  58530_001942_42_40151_42480   42  \n",
       "3833887  58530_001942_42_40151_42346   42  \n",
       "3833889  58530_001942_42_40151_44816   42  \n",
       "3833860  58530_001942_42_42404_42497   42  \n",
       "3833935  58530_001942_42_41667_43361   42  \n",
       "...                              ...  ...  \n",
       "4706224  58582_003121_31_41222_43296   31  \n",
       "4706214  58582_003121_31_46121_48220   31  \n",
       "4706330  58582_003121_31_45009_47906   31  \n",
       "4706020  58582_003121_30_46133_46284   30  \n",
       "4706077  58582_003121_30_45009_47906   30  \n",
       "\n",
       "[36486 rows x 21 columns]"
      ]
     },
     "execution_count": 33,
     "metadata": {},
     "output_type": "execute_result"
    }
   ],
   "source": [
    "X_test"
   ]
  },
  {
   "cell_type": "markdown",
   "id": "d55a7a99",
   "metadata": {},
   "source": [
    "Group by game play and check the best game play. "
   ]
  },
  {
   "cell_type": "code",
   "execution_count": 34,
   "id": "aec1c657",
   "metadata": {},
   "outputs": [
    {
     "name": "stderr",
     "output_type": "stream",
     "text": [
      "/var/folders/1x/f36xt9bd48jdfc_0drgsjsmw0000gn/T/ipykernel_58965/1101169570.py:1: SettingWithCopyWarning: \n",
      "A value is trying to be set on a copy of a slice from a DataFrame.\n",
      "Try using .loc[row_indexer,col_indexer] = value instead\n",
      "\n",
      "See the caveats in the documentation: https://pandas.pydata.org/pandas-docs/stable/user_guide/indexing.html#returning-a-view-versus-a-copy\n",
      "  X_test['contact'] = y_pred_2\n"
     ]
    }
   ],
   "source": [
    "X_test['contact'] = y_pred_2"
   ]
  },
  {
   "cell_type": "code",
   "execution_count": 35,
   "id": "c9a4ef82",
   "metadata": {},
   "outputs": [
    {
     "name": "stderr",
     "output_type": "stream",
     "text": [
      "/var/folders/1x/f36xt9bd48jdfc_0drgsjsmw0000gn/T/ipykernel_58965/2588243418.py:1: SettingWithCopyWarning: \n",
      "A value is trying to be set on a copy of a slice from a DataFrame.\n",
      "Try using .loc[row_indexer,col_indexer] = value instead\n",
      "\n",
      "See the caveats in the documentation: https://pandas.pydata.org/pandas-docs/stable/user_guide/indexing.html#returning-a-view-versus-a-copy\n",
      "  X_test['contact_real'] = y_test\n"
     ]
    }
   ],
   "source": [
    "X_test['contact_real'] = y_test"
   ]
  },
  {
   "cell_type": "code",
   "execution_count": 36,
   "id": "efefcd78",
   "metadata": {},
   "outputs": [
    {
     "name": "stdout",
     "output_type": "stream",
     "text": [
      "              precision    recall  f1-score   support\n",
      "\n",
      "           0       0.91      0.82      0.86     27218\n",
      "           1       0.58      0.75      0.66      9268\n",
      "\n",
      "    accuracy                           0.80     36486\n",
      "   macro avg       0.75      0.78      0.76     36486\n",
      "weighted avg       0.82      0.80      0.81     36486\n",
      "\n"
     ]
    }
   ],
   "source": [
    "print(classification_report(X_test.contact_real, X_test.contact))"
   ]
  },
  {
   "cell_type": "code",
   "execution_count": 41,
   "id": "e808ea7b",
   "metadata": {},
   "outputs": [
    {
     "data": {
      "image/png": "[encoded data removed]",
      "text/plain": [
       "<Figure size 576x576 with 1 Axes>"
      ]
     },
     "metadata": {
      "needs_background": "light"
     },
     "output_type": "display_data"
    }
   ],
   "source": [
    "import seaborn as sns\n",
    "importances = model.feature_importances_\n",
    "sort = np.argsort(importances)[::-1]\n",
    "f = plt.figure(figsize=(8,8))\n",
    "\n",
    "sns.barplot(y=model.feature_names_in_[sort], x=model.feature_importances_[sort])\n",
    "plt.show()"
   ]
  },
  {
   "cell_type": "code",
   "execution_count": null,
   "id": "ecb9b1b1",
   "metadata": {},
   "outputs": [],
   "source": []
  }
 ],
 "metadata": {
  "kernelspec": {
   "display_name": "Python 3 (ipykernel)",
   "language": "python",
   "name": "python3"
  },
  "language_info": {
   "codemirror_mode": {
    "name": "ipython",
    "version": 3
   },
   "file_extension": ".py",
   "mimetype": "text/x-python",
   "name": "python",
   "nbconvert_exporter": "python",
   "pygments_lexer": "ipython3",
   "version": "3.9.7"
  }
 },
 "nbformat": 4,
 "nbformat_minor": 5
}
