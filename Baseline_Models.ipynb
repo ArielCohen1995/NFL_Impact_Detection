{
 "cells": [
  {
   "cell_type": "code",
   "execution_count": 13,
   "id": "b8f6364a",
   "metadata": {
    "ExecuteTime": {
     "end_time": "2023-02-08T21:44:33.980646Z",
     "start_time": "2023-02-08T21:44:33.652187Z"
    }
   },
   "outputs": [],
   "source": [
    "import pandas as pd\n",
    "import numpy as np\n",
    "import zipfile\n",
    "import matplotlib.pyplot as plt\n",
    "import seaborn as sns\n",
    "\n",
    "from sklearn.linear_model import LogisticRegression\n",
    "from sklearn.model_selection import train_test_split\n",
    "from sklearn.metrics import accuracy_score\n",
    "from imblearn.over_sampling import RandomOverSampler\n",
    "from sklearn.metrics import classification_report\n",
    "from sklearn.metrics import confusion_matrix\n",
    "from sklearn.metrics import mean_squared_error\n",
    "from sklearn.ensemble import RandomForestClassifier\n",
    "from sklearn.model_selection import train_test_split\n",
    "from sklearn.metrics import classification_report, confusion_matrix, ConfusionMatrixDisplay"
   ]
  },
  {
   "cell_type": "code",
   "execution_count": 3,
   "id": "bd713a99",
   "metadata": {
    "ExecuteTime": {
     "end_time": "2023-02-08T21:42:27.748419Z",
     "start_time": "2023-02-08T21:42:11.848856Z"
    }
   },
   "outputs": [],
   "source": [
    "with zipfile.ZipFile(\"nfl-player-contact-detection.zip\") as z:\n",
    "    with z.open(\"train_labels.csv\") as f1:\n",
    "        df_labels = pd.read_csv(f1)\n",
    "    with z.open(\"train_baseline_helmets.csv\") as f2:\n",
    "        df_base_helmet = pd.read_csv(f2)\n",
    "    with z.open(\"train_player_tracking.csv\") as f3:\n",
    "        df_player_track = pd.read_csv(f3)\n",
    "    with z.open(\"train_video_metadata.csv\") as f4:\n",
    "        df_video_metadata = pd.read_csv(f4)"
   ]
  },
  {
   "cell_type": "markdown",
   "id": "8e3b2b60",
   "metadata": {},
   "source": [
    "# BASELINE MODEL Logistic Regression"
   ]
  },
  {
   "cell_type": "code",
   "execution_count": 4,
   "id": "4dd611aa",
   "metadata": {
    "ExecuteTime": {
     "end_time": "2023-02-08T21:42:27.811737Z",
     "start_time": "2023-02-08T21:42:27.751411Z"
    }
   },
   "outputs": [
    {
     "data": {
      "text/plain": [
       "0    4657096\n",
       "1      64522\n",
       "Name: contact, dtype: int64"
      ]
     },
     "execution_count": 4,
     "metadata": {},
     "output_type": "execute_result"
    }
   ],
   "source": [
    "df_labels.contact.value_counts()"
   ]
  },
  {
   "cell_type": "markdown",
   "id": "0148e8ab",
   "metadata": {},
   "source": [
    "As the target is imbalanced, we will resample it later to have a better estimation of the accuracy (or we can base our result on f1-score)\n"
   ]
  },
  {
   "cell_type": "markdown",
   "id": "5875fd02",
   "metadata": {},
   "source": [
    "## Preprocessing\n",
    "### Treatment of datetime and remove the column not really usefull"
   ]
  },
  {
   "cell_type": "code",
   "execution_count": 5,
   "id": "c32ab37e",
   "metadata": {
    "ExecuteTime": {
     "end_time": "2023-02-08T21:43:02.729326Z",
     "start_time": "2023-02-08T21:43:02.616627Z"
    }
   },
   "outputs": [
    {
     "data": {
      "text/html": [
       "<div>\n",
       "<style scoped>\n",
       "    .dataframe tbody tr th:only-of-type {\n",
       "        vertical-align: middle;\n",
       "    }\n",
       "\n",
       "    .dataframe tbody tr th {\n",
       "        vertical-align: top;\n",
       "    }\n",
       "\n",
       "    .dataframe thead th {\n",
       "        text-align: right;\n",
       "    }\n",
       "</style>\n",
       "<table border=\"1\" class=\"dataframe\">\n",
       "  <thead>\n",
       "    <tr style=\"text-align: right;\">\n",
       "      <th></th>\n",
       "      <th>datetime</th>\n",
       "      <th>step</th>\n",
       "      <th>nfl_player_id_1</th>\n",
       "      <th>nfl_player_id_2</th>\n",
       "      <th>contact</th>\n",
       "    </tr>\n",
       "  </thead>\n",
       "  <tbody>\n",
       "    <tr>\n",
       "      <th>0</th>\n",
       "      <td>2020-09-11T03:01:48.100Z</td>\n",
       "      <td>0</td>\n",
       "      <td>38590</td>\n",
       "      <td>43854</td>\n",
       "      <td>0</td>\n",
       "    </tr>\n",
       "    <tr>\n",
       "      <th>1</th>\n",
       "      <td>2020-09-11T03:01:48.100Z</td>\n",
       "      <td>0</td>\n",
       "      <td>38590</td>\n",
       "      <td>41257</td>\n",
       "      <td>0</td>\n",
       "    </tr>\n",
       "    <tr>\n",
       "      <th>2</th>\n",
       "      <td>2020-09-11T03:01:48.100Z</td>\n",
       "      <td>0</td>\n",
       "      <td>38590</td>\n",
       "      <td>41944</td>\n",
       "      <td>0</td>\n",
       "    </tr>\n",
       "    <tr>\n",
       "      <th>3</th>\n",
       "      <td>2020-09-11T03:01:48.100Z</td>\n",
       "      <td>0</td>\n",
       "      <td>38590</td>\n",
       "      <td>42386</td>\n",
       "      <td>0</td>\n",
       "    </tr>\n",
       "    <tr>\n",
       "      <th>4</th>\n",
       "      <td>2020-09-11T03:01:48.100Z</td>\n",
       "      <td>0</td>\n",
       "      <td>38590</td>\n",
       "      <td>47944</td>\n",
       "      <td>0</td>\n",
       "    </tr>\n",
       "  </tbody>\n",
       "</table>\n",
       "</div>"
      ],
      "text/plain": [
       "                   datetime  step  nfl_player_id_1 nfl_player_id_2  contact\n",
       "0  2020-09-11T03:01:48.100Z     0            38590           43854        0\n",
       "1  2020-09-11T03:01:48.100Z     0            38590           41257        0\n",
       "2  2020-09-11T03:01:48.100Z     0            38590           41944        0\n",
       "3  2020-09-11T03:01:48.100Z     0            38590           42386        0\n",
       "4  2020-09-11T03:01:48.100Z     0            38590           47944        0"
      ]
     },
     "execution_count": 5,
     "metadata": {},
     "output_type": "execute_result"
    }
   ],
   "source": [
    "df = df_labels.drop(columns=[\"contact_id\", \"game_play\"])\n",
    "df.head()"
   ]
  },
  {
   "cell_type": "code",
   "execution_count": 6,
   "id": "07859ca5",
   "metadata": {
    "ExecuteTime": {
     "end_time": "2023-02-08T21:43:11.777562Z",
     "start_time": "2023-02-08T21:43:11.183674Z"
    }
   },
   "outputs": [],
   "source": [
    "df['datetime_column'] = pd.to_datetime(df['datetime'])"
   ]
  },
  {
   "cell_type": "code",
   "execution_count": 7,
   "id": "42e15c95",
   "metadata": {
    "ExecuteTime": {
     "end_time": "2023-02-08T21:43:24.972754Z",
     "start_time": "2023-02-08T21:43:22.665788Z"
    }
   },
   "outputs": [],
   "source": [
    "df['year'] = df['datetime_column'].dt.year\n",
    "df['month'] = df['datetime_column'].dt.month\n",
    "df['day'] = df['datetime_column'].dt.day\n",
    "df['hour'] = df['datetime_column'].dt.hour\n",
    "df['minute'] = df['datetime_column'].dt.minute\n",
    "df['second'] = df['datetime_column'].dt.second"
   ]
  },
  {
   "cell_type": "code",
   "execution_count": 8,
   "id": "0012b071",
   "metadata": {
    "ExecuteTime": {
     "end_time": "2023-02-08T21:43:28.562526Z",
     "start_time": "2023-02-08T21:43:28.456270Z"
    }
   },
   "outputs": [],
   "source": [
    "df['second_2'] = df['step'] * 0.1 + df['second']\n",
    "df.loc[df['second_2'] > 60, 'minute'] += 1"
   ]
  },
  {
   "cell_type": "code",
   "execution_count": 9,
   "id": "ff3afd10",
   "metadata": {
    "ExecuteTime": {
     "end_time": "2023-02-08T21:43:33.716667Z",
     "start_time": "2023-02-08T21:43:33.500218Z"
    }
   },
   "outputs": [],
   "source": [
    "df = df.drop(columns=[\"datetime\", \"step\",\"second\",\"datetime_column\"])"
   ]
  },
  {
   "cell_type": "markdown",
   "id": "350253de",
   "metadata": {},
   "source": [
    "Replace G by 0 in nfl_player_id_2 (when a player touch the ground"
   ]
  },
  {
   "cell_type": "code",
   "execution_count": 10,
   "id": "7fd1cdb1",
   "metadata": {
    "ExecuteTime": {
     "end_time": "2023-02-08T21:43:45.591042Z",
     "start_time": "2023-02-08T21:43:45.314959Z"
    }
   },
   "outputs": [],
   "source": [
    "df.loc[df['nfl_player_id_2'] == 'G', 'nfl_player_id_2'] = 0"
   ]
  },
  {
   "cell_type": "code",
   "execution_count": 11,
   "id": "14ba3c88",
   "metadata": {
    "ExecuteTime": {
     "end_time": "2023-02-08T21:44:02.709505Z",
     "start_time": "2023-02-08T21:44:02.687456Z"
    }
   },
   "outputs": [
    {
     "data": {
      "text/html": [
       "<div>\n",
       "<style scoped>\n",
       "    .dataframe tbody tr th:only-of-type {\n",
       "        vertical-align: middle;\n",
       "    }\n",
       "\n",
       "    .dataframe tbody tr th {\n",
       "        vertical-align: top;\n",
       "    }\n",
       "\n",
       "    .dataframe thead th {\n",
       "        text-align: right;\n",
       "    }\n",
       "</style>\n",
       "<table border=\"1\" class=\"dataframe\">\n",
       "  <thead>\n",
       "    <tr style=\"text-align: right;\">\n",
       "      <th></th>\n",
       "      <th>nfl_player_id_1</th>\n",
       "      <th>nfl_player_id_2</th>\n",
       "      <th>contact</th>\n",
       "      <th>year</th>\n",
       "      <th>month</th>\n",
       "      <th>day</th>\n",
       "      <th>hour</th>\n",
       "      <th>minute</th>\n",
       "      <th>second_2</th>\n",
       "    </tr>\n",
       "  </thead>\n",
       "  <tbody>\n",
       "    <tr>\n",
       "      <th>0</th>\n",
       "      <td>38590</td>\n",
       "      <td>43854</td>\n",
       "      <td>0</td>\n",
       "      <td>2020</td>\n",
       "      <td>9</td>\n",
       "      <td>11</td>\n",
       "      <td>3</td>\n",
       "      <td>1</td>\n",
       "      <td>48.0</td>\n",
       "    </tr>\n",
       "    <tr>\n",
       "      <th>1</th>\n",
       "      <td>38590</td>\n",
       "      <td>41257</td>\n",
       "      <td>0</td>\n",
       "      <td>2020</td>\n",
       "      <td>9</td>\n",
       "      <td>11</td>\n",
       "      <td>3</td>\n",
       "      <td>1</td>\n",
       "      <td>48.0</td>\n",
       "    </tr>\n",
       "    <tr>\n",
       "      <th>2</th>\n",
       "      <td>38590</td>\n",
       "      <td>41944</td>\n",
       "      <td>0</td>\n",
       "      <td>2020</td>\n",
       "      <td>9</td>\n",
       "      <td>11</td>\n",
       "      <td>3</td>\n",
       "      <td>1</td>\n",
       "      <td>48.0</td>\n",
       "    </tr>\n",
       "    <tr>\n",
       "      <th>3</th>\n",
       "      <td>38590</td>\n",
       "      <td>42386</td>\n",
       "      <td>0</td>\n",
       "      <td>2020</td>\n",
       "      <td>9</td>\n",
       "      <td>11</td>\n",
       "      <td>3</td>\n",
       "      <td>1</td>\n",
       "      <td>48.0</td>\n",
       "    </tr>\n",
       "    <tr>\n",
       "      <th>4</th>\n",
       "      <td>38590</td>\n",
       "      <td>47944</td>\n",
       "      <td>0</td>\n",
       "      <td>2020</td>\n",
       "      <td>9</td>\n",
       "      <td>11</td>\n",
       "      <td>3</td>\n",
       "      <td>1</td>\n",
       "      <td>48.0</td>\n",
       "    </tr>\n",
       "  </tbody>\n",
       "</table>\n",
       "</div>"
      ],
      "text/plain": [
       "   nfl_player_id_1 nfl_player_id_2  contact  year  month  day  hour  minute  \\\n",
       "0            38590           43854        0  2020      9   11     3       1   \n",
       "1            38590           41257        0  2020      9   11     3       1   \n",
       "2            38590           41944        0  2020      9   11     3       1   \n",
       "3            38590           42386        0  2020      9   11     3       1   \n",
       "4            38590           47944        0  2020      9   11     3       1   \n",
       "\n",
       "   second_2  \n",
       "0      48.0  \n",
       "1      48.0  \n",
       "2      48.0  \n",
       "3      48.0  \n",
       "4      48.0  "
      ]
     },
     "execution_count": 11,
     "metadata": {},
     "output_type": "execute_result"
    }
   ],
   "source": [
    "df.head()"
   ]
  },
  {
   "cell_type": "code",
   "execution_count": 14,
   "id": "aeeafad0",
   "metadata": {
    "ExecuteTime": {
     "end_time": "2023-02-08T21:45:10.553398Z",
     "start_time": "2023-02-08T21:44:37.969252Z"
    }
   },
   "outputs": [],
   "source": [
    "X = df.drop(\"contact\", axis=1)\n",
    "y = df[\"contact\"]\n",
    "\n",
    "X_train, X_test, y_train, y_test = train_test_split(X, y, test_size=0.2, random_state=0)\n",
    "\n",
    "resamp = RandomOverSampler(sampling_strategy='minority')\n",
    "X_train, y_train = resamp.fit_resample(X_train, y_train)\n",
    "X_test, y_test = resamp.fit_resample(X_test, y_test)\n",
    "\n",
    "baseline_model = LogisticRegression()\n",
    "baseline_model.fit(X_train, y_train)\n",
    "\n",
    "y_pred = baseline_model.predict(X_test)"
   ]
  },
  {
   "cell_type": "code",
   "execution_count": 15,
   "id": "51e28429",
   "metadata": {
    "ExecuteTime": {
     "end_time": "2023-02-08T21:45:13.882971Z",
     "start_time": "2023-02-08T21:45:10.557371Z"
    }
   },
   "outputs": [
    {
     "name": "stdout",
     "output_type": "stream",
     "text": [
      "              precision    recall  f1-score   support\n",
      "\n",
      "           0       0.55      0.92      0.69    931428\n",
      "           1       0.75      0.26      0.39    931428\n",
      "\n",
      "    accuracy                           0.59   1862856\n",
      "   macro avg       0.65      0.59      0.54   1862856\n",
      "weighted avg       0.65      0.59      0.54   1862856\n",
      "\n",
      "Accuracy = 0.5870190717908416\n",
      "MSE = 0.6426359219722769\n"
     ]
    }
   ],
   "source": [
    "cls_rep = classification_report(y_test, y_pred)\n",
    "print(cls_rep)\n",
    "tn, fp, fn, tp = confusion_matrix(y_test, y_pred).ravel()\n",
    "(tn, fp, fn, tp)\n",
    "\n",
    "\n",
    "accuracy = accuracy_score(y_test, y_pred)\n",
    "print(\"Accuracy =\", accuracy)\n",
    "\n",
    "MSE = np.sqrt(mean_squared_error(y_test, y_pred))\n",
    "print(\"MSE =\", MSE)"
   ]
  },
  {
   "cell_type": "markdown",
   "id": "50317da7",
   "metadata": {},
   "source": [
    "# BASELINE MODEL Random Forest Classifier "
   ]
  },
  {
   "cell_type": "markdown",
   "id": "f8ab6c1a",
   "metadata": {},
   "source": [
    "### This notebook takes into account all the EDA steps taken in `Final_Project_EDA_BASELINE.ipynb`"
   ]
  },
  {
   "cell_type": "code",
   "execution_count": 3,
   "id": "f22ce6ad",
   "metadata": {
    "ExecuteTime": {
     "end_time": "2023-02-08T20:32:11.250753Z",
     "start_time": "2023-02-08T20:32:11.242185Z"
    }
   },
   "outputs": [],
   "source": [
    "# video rate (frames per second) given in the task.\n",
    "FPS = 59.94"
   ]
  },
  {
   "cell_type": "markdown",
   "id": "8e78d5dd",
   "metadata": {},
   "source": [
    "I will use `train_labels.csv` and the structure it provides as the basis for building main dataframe for modeling. For the test set provided it should be built from scratch out of other data sources (other .scv files)"
   ]
  },
  {
   "cell_type": "markdown",
   "id": "dd41e36c",
   "metadata": {},
   "source": [
    "At the first stage I also will drop form dataframe `contact_id` and `step` features, presented in `train_labels.csv` data and transform datetime feature in pandas datetime format for more convenient usage."
   ]
  },
  {
   "cell_type": "code",
   "execution_count": 4,
   "id": "5ec83236",
   "metadata": {
    "ExecuteTime": {
     "end_time": "2023-02-08T20:32:12.253295Z",
     "start_time": "2023-02-08T20:32:11.257286Z"
    }
   },
   "outputs": [
    {
     "data": {
      "text/plain": [
       "(4721618, 5)"
      ]
     },
     "execution_count": 4,
     "metadata": {},
     "output_type": "execute_result"
    }
   ],
   "source": [
    "df = df_labels.copy()\n",
    "df.drop(['contact_id', 'step'], axis=1, inplace=True)\n",
    "df.datetime = pd.to_datetime(df.datetime, format='%Y-%m-%dT%H:%M:%S.%fZ')\n",
    "df.shape"
   ]
  },
  {
   "cell_type": "markdown",
   "id": "08bf166d",
   "metadata": {},
   "source": [
    "Now I will transform `nfl_player_id_2` to numerical values. To do so firstly I will transform `G` value to zero."
   ]
  },
  {
   "cell_type": "code",
   "execution_count": 5,
   "id": "5f739a49",
   "metadata": {
    "ExecuteTime": {
     "end_time": "2023-02-08T20:32:12.939088Z",
     "start_time": "2023-02-08T20:32:12.253295Z"
    }
   },
   "outputs": [
    {
     "data": {
      "text/plain": [
       "(4721618, 5)"
      ]
     },
     "execution_count": 5,
     "metadata": {},
     "output_type": "execute_result"
    }
   ],
   "source": [
    "df.loc[df.nfl_player_id_2 == 'G', 'nfl_player_id_2'] = 0\n",
    "df.nfl_player_id_2 = df.nfl_player_id_2.astype(int)\n",
    "df.shape"
   ]
  },
  {
   "cell_type": "markdown",
   "id": "0c4ef5a1",
   "metadata": {},
   "source": [
    "To enrich the data I will use other sources (other `.csv` files) and `pandas.merge()` to add additional information to the dataset. Firstly I will add the video starting timestamp to calculate on what frame game started and to match it with the data from `baseline_helmets.csv` file."
   ]
  },
  {
   "cell_type": "code",
   "execution_count": 6,
   "id": "fa201267",
   "metadata": {
    "ExecuteTime": {
     "end_time": "2023-02-08T20:32:12.963691Z",
     "start_time": "2023-02-08T20:32:12.947411Z"
    }
   },
   "outputs": [],
   "source": [
    "video_timing = df_video_metadata[['game_play','start_time']].copy()\n",
    "video_timing.start_time = pd.to_datetime(video_timing.start_time, format='%Y-%m-%dT%H:%M:%S.%fZ')\n",
    "# since there are two videos for every game I will group them and use .min() to find a start time (two video synchronized)\n",
    "video_timing = video_timing.groupby(by='game_play').min().reset_index()"
   ]
  },
  {
   "cell_type": "code",
   "execution_count": 7,
   "id": "c6da4094",
   "metadata": {
    "ExecuteTime": {
     "end_time": "2023-02-08T20:32:13.726608Z",
     "start_time": "2023-02-08T20:32:12.968738Z"
    }
   },
   "outputs": [
    {
     "data": {
      "text/plain": [
       "(4721618, 6)"
      ]
     },
     "execution_count": 7,
     "metadata": {},
     "output_type": "execute_result"
    }
   ],
   "source": [
    "df = df.merge(video_timing[['game_play', 'start_time']], on='game_play', how='left')\n",
    "df.shape"
   ]
  },
  {
   "cell_type": "code",
   "execution_count": 8,
   "id": "132ccfb9",
   "metadata": {
    "ExecuteTime": {
     "end_time": "2023-02-08T20:32:14.236433Z",
     "start_time": "2023-02-08T20:32:13.731661Z"
    }
   },
   "outputs": [
    {
     "data": {
      "text/plain": [
       "(4721618, 7)"
      ]
     },
     "execution_count": 8,
     "metadata": {},
     "output_type": "execute_result"
    }
   ],
   "source": [
    "# adding number of frame when game starts (step = 0)\n",
    "df['frame_number'] = (np.array((df.datetime - df.start_time).astype('int64') / 10**9) * FPS).round().astype(int)\n",
    "df.shape"
   ]
  },
  {
   "cell_type": "markdown",
   "id": "f94f0905",
   "metadata": {},
   "source": [
    "For every view (`Sideline`, `Endzone`) I will add two columns with unique features (left and top - the position of player's helmet on a frame of video, if he presented on the view). I will add these columns for every player with corresponding suffix (`_p1` or `_p2`)."
   ]
  },
  {
   "cell_type": "code",
   "execution_count": 9,
   "id": "cd62fe99",
   "metadata": {
    "ExecuteTime": {
     "end_time": "2023-02-08T20:32:23.207202Z",
     "start_time": "2023-02-08T20:32:14.236433Z"
    }
   },
   "outputs": [
    {
     "data": {
      "text/plain": [
       "(4721618, 15)"
      ]
     },
     "execution_count": 9,
     "metadata": {},
     "output_type": "execute_result"
    }
   ],
   "source": [
    "# adding positions from both videoviews\n",
    "for video in ['Sideline', 'Endzone']:\n",
    "    # adding features for both palyers\n",
    "    for num, player_id in enumerate(['nfl_player_id_1', 'nfl_player_id_2'], start=1):\n",
    "        df = df.merge(df_base_helmet[['game_play', 'nfl_player_id', 'frame', 'left', 'top']][df_base_helmet.view == video], \n",
    "                      left_on=['game_play', 'frame_number', player_id], \n",
    "                      right_on=['game_play', 'frame', 'nfl_player_id'],\n",
    "                      how='left')\n",
    "        df.rename(columns={'left': f'left_{video.lower()}_p{str(num)}', \n",
    "                           'top': f'top_{video.lower()}_p{str(num)}'}, inplace=True)\n",
    "        df.drop(['nfl_player_id', 'frame'], axis=1, inplace=True)\n",
    "df.shape"
   ]
  },
  {
   "cell_type": "markdown",
   "id": "5ba8dacc",
   "metadata": {},
   "source": [
    "For the **baseline** (simple) model I will fill all the `NaN` values (when player was not presented on a corresponding frame or ground)v with zeros."
   ]
  },
  {
   "cell_type": "code",
   "execution_count": 10,
   "id": "bedfb17a",
   "metadata": {
    "ExecuteTime": {
     "end_time": "2023-02-08T20:32:42.825951Z",
     "start_time": "2023-02-08T20:32:23.207202Z"
    }
   },
   "outputs": [],
   "source": [
    "df.fillna(0, inplace=True)"
   ]
  },
  {
   "cell_type": "markdown",
   "id": "b3867564",
   "metadata": {},
   "source": [
    "Now I add information from personal trackers from `player_tracking.csv` file."
   ]
  },
  {
   "cell_type": "code",
   "execution_count": 11,
   "id": "2d4bb05f",
   "metadata": {
    "ExecuteTime": {
     "end_time": "2023-02-08T20:32:43.300587Z",
     "start_time": "2023-02-08T20:32:42.825951Z"
    }
   },
   "outputs": [],
   "source": [
    "player_track = df_player_track.drop(columns=['game_key', 'play_id', 'step', 'team', 'position']).copy()\n",
    "player_track.datetime = pd.to_datetime(player_track.datetime, format='%Y-%m-%dT%H:%M:%S.%fZ')"
   ]
  },
  {
   "cell_type": "code",
   "execution_count": 12,
   "id": "58017924",
   "metadata": {
    "ExecuteTime": {
     "end_time": "2023-02-08T20:32:48.664214Z",
     "start_time": "2023-02-08T20:32:43.300587Z"
    }
   },
   "outputs": [
    {
     "data": {
      "text/plain": [
       "(4721618, 33)"
      ]
     },
     "execution_count": 12,
     "metadata": {},
     "output_type": "execute_result"
    }
   ],
   "source": [
    "for num, player_id in enumerate(['nfl_player_id_1', 'nfl_player_id_2'], start=1):\n",
    "    df = df.merge(player_track, \n",
    "                  left_on=['game_play', 'datetime', player_id],\n",
    "                  right_on=['game_play', 'datetime', 'nfl_player_id'],\n",
    "                  how='left')\n",
    "    df.rename(columns={'jersey_number': f'jersey_num_p{str(num)}', \n",
    "                       'x_position': f'x_p{str(num)}', \n",
    "                       'y_position': f'y_p{str(num)}', \n",
    "                       'speed': f'speed_p{str(num)}', \n",
    "                       'distance': f'distance_p{str(num)}',\n",
    "                       'direction': f'direction_p{str(num)}', \n",
    "                       'orientation': f'orientation_p{str(num)}',\n",
    "                       'acceleration': f'acceleration_p{str(num)}',\n",
    "                       'sa': f'sa_p{str(num)}'}, inplace=True)\n",
    "    df.drop(['nfl_player_id'], axis=1, inplace=True)\n",
    "df.shape"
   ]
  },
  {
   "cell_type": "markdown",
   "id": "2cd9db6d",
   "metadata": {},
   "source": [
    "The same as for `NaN` values after adding information from `baseline_helmets.csv` I will fill new ones with zeros."
   ]
  },
  {
   "cell_type": "code",
   "execution_count": 13,
   "id": "d051f00f",
   "metadata": {
    "ExecuteTime": {
     "end_time": "2023-02-08T20:33:09.320375Z",
     "start_time": "2023-02-08T20:32:48.666162Z"
    }
   },
   "outputs": [],
   "source": [
    "df.fillna(0, inplace=True)"
   ]
  },
  {
   "cell_type": "markdown",
   "id": "0f477cdb",
   "metadata": {},
   "source": [
    "Now I am going to keep only relevant columns in the dataframe. To save information (it can be important for the model later on) about type of contact (player with player or player with ground) I will transform data in `nfl_player_id_2` column into binary data where 1 corresponds to `player-player` contact and 0 to `player-ground`."
   ]
  },
  {
   "cell_type": "code",
   "execution_count": 14,
   "id": "7bdbe7fb",
   "metadata": {
    "ExecuteTime": {
     "end_time": "2023-02-08T20:33:10.008404Z",
     "start_time": "2023-02-08T20:33:09.320375Z"
    }
   },
   "outputs": [
    {
     "data": {
      "text/plain": [
       "(4721618, 28)"
      ]
     },
     "execution_count": 14,
     "metadata": {},
     "output_type": "execute_result"
    }
   ],
   "source": [
    "df.drop(['game_play', 'datetime', 'nfl_player_id_1', 'start_time', 'frame_number'], axis=1, inplace=True)\n",
    "df.rename(columns={'nfl_player_id_2': 'is_player'}, inplace=True)\n",
    "df.is_player = (df.is_player > 0).astype(int)\n",
    "df.shape"
   ]
  },
  {
   "cell_type": "markdown",
   "id": "c9024d20",
   "metadata": {},
   "source": [
    "Now I want to add some new features that will represent differences (distances) in all kind of coordinates between players."
   ]
  },
  {
   "cell_type": "code",
   "execution_count": 15,
   "id": "02f46702",
   "metadata": {
    "ExecuteTime": {
     "end_time": "2023-02-08T20:33:10.192249Z",
     "start_time": "2023-02-08T20:33:10.011536Z"
    }
   },
   "outputs": [
    {
     "data": {
      "text/plain": [
       "(4721618, 34)"
      ]
     },
     "execution_count": 15,
     "metadata": {},
     "output_type": "execute_result"
    }
   ],
   "source": [
    "diff_cols = []\n",
    "for col in ['left_sideline', 'top_sideline', 'left_endzone', 'top_endzone', 'x', 'y']:\n",
    "    diff_cols.append(f'{col}_diff')\n",
    "    df[f'{col}_diff'] = df[f'{col}_p1'] - df[f'{col}_p2']\n",
    "df.shape"
   ]
  },
  {
   "cell_type": "markdown",
   "id": "87acbff7",
   "metadata": {},
   "source": [
    "Now I will separate target value and will split data into `train` and `test` sets. Since target variable extremely imbalanced I will stratify my split by it."
   ]
  },
  {
   "cell_type": "code",
   "execution_count": 16,
   "id": "d678a3e5",
   "metadata": {
    "ExecuteTime": {
     "end_time": "2023-02-08T20:33:20.073933Z",
     "start_time": "2023-02-08T20:33:10.192249Z"
    }
   },
   "outputs": [
    {
     "data": {
      "text/plain": [
       "((3777294, 33), (3777294,), (944324, 33), (944324,))"
      ]
     },
     "execution_count": 16,
     "metadata": {},
     "output_type": "execute_result"
    }
   ],
   "source": [
    "X = df.drop('contact', axis=1)\n",
    "y = df.contact\n",
    "\n",
    "X_train, X_test, y_train, y_test = train_test_split(X, y, test_size=0.2, stratify=y, random_state=88)\n",
    "X_train.shape, y_train.shape, X_test.shape, y_test.shape"
   ]
  },
  {
   "cell_type": "markdown",
   "id": "a02d47ff",
   "metadata": {},
   "source": [
    "As the **baseline** model I will use RandomForestClassifier from `scikit-learn` package with default hyperparameters."
   ]
  },
  {
   "cell_type": "code",
   "execution_count": 17,
   "id": "2ae4785f",
   "metadata": {
    "ExecuteTime": {
     "end_time": "2023-02-08T20:41:11.720522Z",
     "start_time": "2023-02-08T20:33:20.082191Z"
    }
   },
   "outputs": [],
   "source": [
    "rfc = RandomForestClassifier(n_jobs=-1)\n",
    "rfc.fit(X_train, y_train)\n",
    "y_pred = rfc.predict(X_test)"
   ]
  },
  {
   "cell_type": "markdown",
   "id": "fb3065d7",
   "metadata": {},
   "source": [
    "### Results of **baseline** model prediction"
   ]
  },
  {
   "cell_type": "markdown",
   "id": "b5cbc3f7",
   "metadata": {},
   "source": [
    "In my opinion for this task should be used `recall` as the main metric to evaluate the model performance. Label `1` represents `contact` between players (ground). Recall for prediction label `1` will be considered as the main results of the model."
   ]
  },
  {
   "cell_type": "code",
   "execution_count": 18,
   "id": "a9f26791",
   "metadata": {
    "ExecuteTime": {
     "end_time": "2023-02-08T20:41:13.602750Z",
     "start_time": "2023-02-08T20:41:11.728594Z"
    },
    "scrolled": false
   },
   "outputs": [
    {
     "name": "stdout",
     "output_type": "stream",
     "text": [
      "              precision    recall  f1-score   support\n",
      "\n",
      "           0       1.00      1.00      1.00    931420\n",
      "           1       0.95      0.73      0.83     12904\n",
      "\n",
      "    accuracy                           1.00    944324\n",
      "   macro avg       0.97      0.86      0.91    944324\n",
      "weighted avg       1.00      1.00      1.00    944324\n",
      "\n"
     ]
    },
    {
     "data": {
      "image/png": "[encoded data removed]",
      "text/plain": [
       "<Figure size 300x300 with 2 Axes>"
      ]
     },
     "metadata": {},
     "output_type": "display_data"
    }
   ],
   "source": [
    "print(classification_report(y_test, y_pred))\n",
    "cm = confusion_matrix(y_test, y_pred)\n",
    "f, ax = plt.subplots(figsize=(3,3))\n",
    "cmp = ConfusionMatrixDisplay(cm)\n",
    "cmp.plot(ax=ax);"
   ]
  },
  {
   "cell_type": "markdown",
   "id": "f2b4f41b",
   "metadata": {},
   "source": [
    "Further some statistics about features importance"
   ]
  },
  {
   "cell_type": "code",
   "execution_count": 19,
   "id": "b711e57c",
   "metadata": {
    "ExecuteTime": {
     "end_time": "2023-02-08T20:41:13.653097Z",
     "start_time": "2023-02-08T20:41:13.603758Z"
    }
   },
   "outputs": [],
   "source": [
    "importances = rfc.feature_importances_\n",
    "sort = np.argsort(importances)[::-1]"
   ]
  },
  {
   "cell_type": "code",
   "execution_count": 20,
   "id": "40e4259a",
   "metadata": {
    "ExecuteTime": {
     "end_time": "2023-02-08T20:41:13.965214Z",
     "start_time": "2023-02-08T20:41:13.655617Z"
    }
   },
   "outputs": [
    {
     "data": {
      "image/png": "[encoded data removed]",
      "text/plain": [
       "<Figure size 800x800 with 1 Axes>"
      ]
     },
     "metadata": {},
     "output_type": "display_data"
    }
   ],
   "source": [
    "f = plt.figure(figsize=(8,8))\n",
    "sns.barplot(y=X_train.columns[sort], x=importances[sort])\n",
    "plt.show()"
   ]
  },
  {
   "cell_type": "code",
   "execution_count": null,
   "id": "cc857128",
   "metadata": {},
   "outputs": [],
   "source": []
  }
 ],
 "metadata": {
  "kernelspec": {
   "display_name": "Python 3 (ipykernel)",
   "language": "python",
   "name": "python3"
  },
  "language_info": {
   "codemirror_mode": {
    "name": "ipython",
    "version": 3
   },
   "file_extension": ".py",
   "mimetype": "text/x-python",
   "name": "python",
   "nbconvert_exporter": "python",
   "pygments_lexer": "ipython3",
   "version": "3.10.6"
  },
  "nbTranslate": {
   "displayLangs": [
    "*"
   ],
   "hotkey": "alt-t",
   "langInMainMenu": true,
   "sourceLang": "en",
   "targetLang": "fr",
   "useGoogleTranslate": true
  }
 },
 "nbformat": 4,
 "nbformat_minor": 5
}
